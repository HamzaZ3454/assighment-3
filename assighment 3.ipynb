{
 "cells": [
  {
   "cell_type": "code",
   "execution_count": 1,
   "id": "e86d0773",
   "metadata": {},
   "outputs": [
    {
     "name": "stdout",
     "output_type": "stream",
     "text": [
      "Twinkle, twinkle, little star, \n",
      "\tHow I wonder what you are! \n",
      "\t\tUp above the world so high, \n",
      "\t\tLike a diamond in the sky. \n",
      "Twinkle, twinkle, little star, \n",
      "\tHow I wonder what you are!\n"
     ]
    }
   ],
   "source": [
    "#Write a python program to print the following strint in a specific format(see the output).\n",
    "print(\"Twinkle, twinkle, little star, \\n\\tHow I wonder what you are! \\n\\t\\tUp above the world so high, \\n\\t\\tLike a diamond in the sky. \\nTwinkle, twinkle, little star, \\n\\tHow I wonder what you are!\")"
   ]
  },
  {
   "cell_type": "code",
   "execution_count": 2,
   "id": "9c5b2e2c",
   "metadata": {},
   "outputs": [
    {
     "name": "stdout",
     "output_type": "stream",
     "text": [
      "3.8.8 (default, Apr 13 2021, 15:08:03) [MSC v.1916 64 bit (AMD64)]\n"
     ]
    }
   ],
   "source": [
    "#Write a python program to get the python version you are using.\n",
    "\n",
    "import sys\n",
    "print(sys.version)"
   ]
  },
  {
   "cell_type": "code",
   "execution_count": 4,
   "id": "03025ea2",
   "metadata": {},
   "outputs": [
    {
     "name": "stdout",
     "output_type": "stream",
     "text": [
      "Current date and time : \n",
      "2021-10-24 16:43:57\n"
     ]
    }
   ],
   "source": [
    "#Write a python program to display the current date and time.\n",
    "\n",
    "import datetime\n",
    "now = datetime.datetime.now()\n",
    "print (\"Current date and time : \")\n",
    "print (now.strftime(\"%Y-%m-%d %H:%M:%S\"))"
   ]
  },
  {
   "cell_type": "code",
   "execution_count": 6,
   "id": "aba59685",
   "metadata": {},
   "outputs": [
    {
     "name": "stdout",
     "output_type": "stream",
     "text": [
      "input the radius of the circle: 25\n",
      "the area of the circle with radius25.0is:1963.4954084936207\n"
     ]
    }
   ],
   "source": [
    "#Write a python program which accepts the radius of a circle from the user and compute the area.\n",
    "\n",
    "from math import pi\n",
    "r=float(input (\"input the radius of the circle: \"))\n",
    "print(\"the area of the circle with radius\"+str(r)+\"is:\"+ str(pi*r**2))"
   ]
  },
  {
   "cell_type": "code",
   "execution_count": 12,
   "id": "4ba2317e",
   "metadata": {},
   "outputs": [
    {
     "name": "stdout",
     "output_type": "stream",
     "text": [
      "Input your First Name : Hamza\n",
      "Input your Last Name : Zaman\n",
      "Hello  Zaman Hamza\n"
     ]
    }
   ],
   "source": [
    "#Write a python program which accept the users first and last name and print them in reverse order with a space between them.\n",
    "\n",
    "firstname = input(\"Input your First Name : \")\n",
    "lastname = input(\"Input your Last Name : \")\n",
    "print (\"Hello  \" + lastname + \" \" + firstname)"
   ]
  },
  {
   "cell_type": "code",
   "execution_count": 15,
   "id": "9d0829dc",
   "metadata": {},
   "outputs": [
    {
     "name": "stdout",
     "output_type": "stream",
     "text": [
      "enter first number:6\n",
      "enter second number:7\n",
      "sum: 13\n"
     ]
    }
   ],
   "source": [
    "#Write a python program which takes two inputs from users and print them addition\n",
    "a=int(input(\"enter first number:\"))\n",
    "b=int(input(\"enter second number:\"))\n",
    "sum=a+b\n",
    "print(\"sum:\",sum)"
   ]
  },
  {
   "cell_type": "code",
   "execution_count": 41,
   "id": "39ae6aab",
   "metadata": {},
   "outputs": [
    {
     "name": "stdout",
     "output_type": "stream",
     "text": [
      "Enter marks of the first subject: 89\n",
      "Enter marks of the second subject: 88\n",
      "Enter marks of the third subject: 77\n",
      "Enter marks of the fourth subject: 98\n",
      "Enter marks of the fifth subject: 76\n",
      "85.6\n",
      "A+\n"
     ]
    }
   ],
   "source": [
    "#Write a program which takes 5 inputs from users for different subjetcs marks,total it and generate mark sheet using grades?\n",
    "eng=int(input(\"Enter marks of the first subject: \"))\n",
    "chem=int(input(\"Enter marks of the second subject: \"))\n",
    "isl=int(input(\"Enter marks of the third subject: \"))\n",
    "bio=int(input(\"Enter marks of the fourth subject: \"))\n",
    "phy=int(input(\"Enter marks of the fifth subject: \"))\n",
    "total=eng+chem+isl+bio+phy;\n",
    "percentage=total/500*100;\n",
    "if percentage <=100 and percentage>0:\n",
    "    print(percentage);\n",
    "else:\n",
    "    print(\"check your marks\");\n",
    "if percentage<=100 and percentage>=80:\n",
    "    print(\"A+\");\n",
    "elif percentage<=79 and percentage>=70:\n",
    "     print(\"A\");\n",
    "elif percentage<=69 and percentage>=60:\n",
    "     print(\"B\");\n",
    "elif percentage<=59 and percentage>=50:\n",
    "     print(\"C\");\n",
    "elif percentage<=49 and percentage>=40:\n",
    "     print(\"D\");\n",
    "elif percentage<=39 and percentage>=0:\n",
    "     print(\"Fail\");"
   ]
  },
  {
   "cell_type": "code",
   "execution_count": 19,
   "id": "98519b51",
   "metadata": {},
   "outputs": [
    {
     "name": "stdout",
     "output_type": "stream",
     "text": [
      "enter a number 7\n",
      "number is odd\n"
     ]
    }
   ],
   "source": [
    "#Write a program which take input from user and identify that the given  number is even or odd.\n",
    "num=int(input(\"enter a number \"))\n",
    "if(num%2==0):\n",
    "    print(\"number is even\")\n",
    "else:\n",
    "    print(\"number is odd\")"
   ]
  },
  {
   "cell_type": "code",
   "execution_count": 20,
   "id": "3f8fccb4",
   "metadata": {},
   "outputs": [
    {
     "name": "stdout",
     "output_type": "stream",
     "text": [
      "5\n"
     ]
    }
   ],
   "source": [
    "#Write a python program which print the lenght of the list?\n",
    "inp_lst = ['hamza','Jamal','ahmed','sabir','sheraz']\n",
    "size = len(inp_lst)\n",
    "print(size)"
   ]
  },
  {
   "cell_type": "code",
   "execution_count": 25,
   "id": "fca4d606",
   "metadata": {},
   "outputs": [
    {
     "name": "stdout",
     "output_type": "stream",
     "text": [
      "Sum of all elements in given list:  64\n"
     ]
    }
   ],
   "source": [
    "#Write a python program to sum all the numeric items in alist?\n",
    "# Python program to find sum of elements in list\n",
    "total = 0\n",
    "ele = 0\n",
    "list1 = [11, 8, 17, 5, 23] \n",
    "\n",
    "while(ele < len(list1)):\n",
    "    total = total + list1[ele]\n",
    "    ele += 1\n",
    "     \n",
    "print(\"Sum of all elements in given list: \", total)"
   ]
  },
  {
   "cell_type": "code",
   "execution_count": 26,
   "id": "fcf4762c",
   "metadata": {},
   "outputs": [
    {
     "name": "stdout",
     "output_type": "stream",
     "text": [
      "largest number is: 23\n"
     ]
    }
   ],
   "source": [
    "#Write a python program to get the largest numvber from a numeric list.\n",
    "list1 = [11, 8, 17, 5, 23] \n",
    "print(\"largest number is:\",max(list1))"
   ]
  },
  {
   "cell_type": "code",
   "execution_count": 37,
   "id": "b3a1ef19",
   "metadata": {},
   "outputs": [
    {
     "name": "stdout",
     "output_type": "stream",
     "text": [
      "1\n",
      "1\n",
      "2\n",
      "3\n"
     ]
    }
   ],
   "source": [
    "#write a program that print out all the elements of the list that are less than 5.\n",
    "a=[1,1,2,3,8,13,21,34,55,89]\n",
    "for i in a:\n",
    "    if i < 5:\n",
    "        print(i)"
   ]
  },
  {
   "cell_type": "code",
   "execution_count": null,
   "id": "db501136",
   "metadata": {},
   "outputs": [],
   "source": []
  }
 ],
 "metadata": {
  "kernelspec": {
   "display_name": "Python 3",
   "language": "python",
   "name": "python3"
  },
  "language_info": {
   "codemirror_mode": {
    "name": "ipython",
    "version": 3
   },
   "file_extension": ".py",
   "mimetype": "text/x-python",
   "name": "python",
   "nbconvert_exporter": "python",
   "pygments_lexer": "ipython3",
   "version": "3.8.8"
  }
 },
 "nbformat": 4,
 "nbformat_minor": 5
}
